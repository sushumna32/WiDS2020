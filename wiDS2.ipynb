{
 "cells": [
  {
   "cell_type": "code",
   "execution_count": 0,
   "metadata": {
    "colab": {
     "base_uri": "https://localhost:8080/",
     "height": 598
    },
    "colab_type": "code",
    "id": "zsh6V1O4wg8C",
    "outputId": "934c2d1a-2511-4a20-826a-ef4dfc9644dc"
   },
   "outputs": [
    {
     "name": "stdout",
     "output_type": "stream",
     "text": [
      "Requirement already satisfied: kaggle in /usr/local/lib/python3.6/dist-packages (1.5.6)\n",
      "Requirement already satisfied: requests in /usr/local/lib/python3.6/dist-packages (from kaggle) (2.21.0)\n",
      "Requirement already satisfied: python-slugify in /usr/local/lib/python3.6/dist-packages (from kaggle) (4.0.0)\n",
      "Requirement already satisfied: six>=1.10 in /usr/local/lib/python3.6/dist-packages (from kaggle) (1.12.0)\n",
      "Requirement already satisfied: tqdm in /usr/local/lib/python3.6/dist-packages (from kaggle) (4.28.1)\n",
      "Requirement already satisfied: certifi in /usr/local/lib/python3.6/dist-packages (from kaggle) (2019.11.28)\n",
      "Requirement already satisfied: python-dateutil in /usr/local/lib/python3.6/dist-packages (from kaggle) (2.6.1)\n",
      "Requirement already satisfied: urllib3<1.25,>=1.21.1 in /usr/local/lib/python3.6/dist-packages (from kaggle) (1.24.3)\n",
      "Requirement already satisfied: idna<2.9,>=2.5 in /usr/local/lib/python3.6/dist-packages (from requests->kaggle) (2.8)\n",
      "Requirement already satisfied: chardet<3.1.0,>=3.0.2 in /usr/local/lib/python3.6/dist-packages (from requests->kaggle) (3.0.4)\n",
      "Requirement already satisfied: text-unidecode>=1.3 in /usr/local/lib/python3.6/dist-packages (from python-slugify->kaggle) (1.3)\n",
      "Warning: Your Kaggle API key is readable by other users on this system! To fix this, you can run 'chmod 600 /root/.kaggle/kaggle.json'\n",
      "- path is now set to: {/content}\n",
      "Warning: Looks like you're using an outdated API Version, please consider updating (server 1.5.6 / client 1.5.4)\n",
      "Downloading training_v2.csv.zip to /content\n",
      " 32% 5.00M/15.7M [00:00<00:00, 14.7MB/s]\n",
      "100% 15.7M/15.7M [00:00<00:00, 39.8MB/s]\n",
      "Downloading WiDS%20Datathon%202020%20Dictionary.csv to /content\n",
      "  0% 0.00/29.2k [00:00<?, ?B/s]\n",
      "100% 29.2k/29.2k [00:00<00:00, 24.7MB/s]\n",
      "Downloading unlabeled.csv.zip to /content\n",
      "  0% 0.00/6.93M [00:00<?, ?B/s]\n",
      "100% 6.93M/6.93M [00:00<00:00, 114MB/s]\n",
      "Downloading solution_template.csv to /content\n",
      "  0% 0.00/313k [00:00<?, ?B/s]\n",
      "100% 313k/313k [00:00<00:00, 42.7MB/s]\n",
      "Downloading samplesubmission.csv to /content\n",
      "  0% 0.00/52.0 [00:00<?, ?B/s]\n",
      "100% 52.0/52.0 [00:00<00:00, 53.2kB/s]\n",
      "Archive:  training_v2.csv.zip\n",
      "  inflating: training_v2.csv         \n",
      "Archive:  unlabeled.csv.zip\n",
      "  inflating: unlabeled.csv           \n"
     ]
    }
   ],
   "source": []
  },
  {
   "cell_type": "code",
   "execution_count": 56,
   "metadata": {
    "colab": {},
    "colab_type": "code",
    "id": "wv6sdk7YwQV7"
   },
   "outputs": [],
   "source": [
    "import pandas as pd\n",
    "import numpy as np\n",
    "import seaborn as sb\n",
    "import matplotlib.pyplot as plt"
   ]
  },
  {
   "cell_type": "code",
   "execution_count": 57,
   "metadata": {
    "colab": {},
    "colab_type": "code",
    "id": "pn9W4P1qwQWX"
   },
   "outputs": [],
   "source": [
    "df_training = pd.read_csv(r'C:\\Users\\sushumna.chiluveru\\Desktop\\flex goals\\training_v2.csv')\n",
    "df_test = pd.read_csv(r'C:\\Users\\sushumna.chiluveru\\Desktop\\flex goals\\unlabeled.csv')"
   ]
  },
  {
   "cell_type": "code",
   "execution_count": 58,
   "metadata": {
    "colab": {
     "base_uri": "https://localhost:8080/",
     "height": 102
    },
    "colab_type": "code",
    "id": "jwJt7-xuwQWi",
    "outputId": "f1a46893-a048-4e77-dcc0-7886dae77c03"
   },
   "outputs": [
    {
     "name": "stdout",
     "output_type": "stream",
     "text": [
      "<class 'pandas.core.frame.DataFrame'>\n",
      "RangeIndex: 91713 entries, 0 to 91712\n",
      "Columns: 186 entries, encounter_id to apache_2_bodysystem\n",
      "dtypes: float64(170), int64(8), object(8)\n",
      "memory usage: 130.1+ MB\n"
     ]
    }
   ],
   "source": [
    "df_training.info()"
   ]
  },
  {
   "cell_type": "code",
   "execution_count": 59,
   "metadata": {
    "colab": {
     "base_uri": "https://localhost:8080/",
     "height": 51
    },
    "colab_type": "code",
    "id": "sa5_o-85wQWs",
    "outputId": "c9088c1a-2e19-40d5-ba8d-77448fab2811"
   },
   "outputs": [
    {
     "name": "stdout",
     "output_type": "stream",
     "text": [
      "Training Shape :  (91713, 112)\n",
      "Test Shape :  (39308, 112)\n"
     ]
    }
   ],
   "source": [
    "#dropping the columns with more than 50 percent null values\n",
    "drop_columns=df_training.isna().sum()[(df_training.isna().sum()/len(df_training))>=0.5]\n",
    "\n",
    "df_training.drop(columns=drop_columns.index, inplace=True)\n",
    "df_test.drop(columns=drop_columns.index, inplace=True)\n",
    "print(\"Training Shape : \" ,df_training.shape)\n",
    "print(\"Test Shape : \" ,df_test.shape)"
   ]
  },
  {
   "cell_type": "code",
   "execution_count": 60,
   "metadata": {
    "colab": {
     "base_uri": "https://localhost:8080/",
     "height": 68
    },
    "colab_type": "code",
    "id": "U17rax6XwQW3",
    "outputId": "a256fd71-03d0-429b-cc1f-67e174c5db4c"
   },
   "outputs": [
    {
     "name": "stdout",
     "output_type": "stream",
     "text": [
      "['readmission_status']\n",
      "Training Shape :  (91713, 111)\n",
      "Test Shape :  (39308, 111)\n"
     ]
    }
   ],
   "source": [
    "constants = [c for c in df_training.columns if df_training[c].nunique()<2]\n",
    "print(constants)\n",
    "df_training.drop(columns=constants, inplace=True)\n",
    "df_test.drop(columns=constants, inplace=True)\n",
    "print(\"Training Shape : \" ,df_training.shape)\n",
    "print(\"Test Shape : \" ,df_test.shape)"
   ]
  },
  {
   "cell_type": "code",
   "execution_count": 61,
   "metadata": {
    "colab": {
     "base_uri": "https://localhost:8080/",
     "height": 68
    },
    "colab_type": "code",
    "id": "gjMPurRkwQXF",
    "outputId": "3e5f6984-99d1-4180-dd4d-7631ede0f7f5"
   },
   "outputs": [
    {
     "data": {
      "text/plain": [
       "(0    83798\n",
       " 1     7915\n",
       " Name: hospital_death, dtype: int64,\n",
       " 0.08630183289173836)"
      ]
     },
     "execution_count": 61,
     "metadata": {},
     "output_type": "execute_result"
    }
   ],
   "source": [
    "df_training['hospital_death'].value_counts(), sum(df_training['hospital_death'])/len(df_training)"
   ]
  },
  {
   "cell_type": "code",
   "execution_count": 62,
   "metadata": {
    "colab": {
     "base_uri": "https://localhost:8080/",
     "height": 170
    },
    "colab_type": "code",
    "id": "___VkuFAwQXR",
    "outputId": "b0d7fc31-8e30-4248-fa09-3fa1fceb8e65"
   },
   "outputs": [
    {
     "data": {
      "text/plain": [
       "count    87485.000000\n",
       "mean        62.309516\n",
       "std         16.775119\n",
       "min         16.000000\n",
       "25%         52.000000\n",
       "50%         65.000000\n",
       "75%         75.000000\n",
       "max         89.000000\n",
       "Name: age, dtype: float64"
      ]
     },
     "execution_count": 62,
     "metadata": {},
     "output_type": "execute_result"
    }
   ],
   "source": [
    "df_training['age'].describe()"
   ]
  },
  {
   "cell_type": "code",
   "execution_count": 63,
   "metadata": {
    "colab": {
     "base_uri": "https://localhost:8080/",
     "height": 221
    },
    "colab_type": "code",
    "id": "VSHuxxeWwQXa",
    "outputId": "55c560f4-fbea-4196-cf07-fe54851c8e77"
   },
   "outputs": [
    {
     "data": {
      "text/plain": [
       "wbc_apache               22012\n",
       "h1_temp_max              21732\n",
       "h1_temp_min              21732\n",
       "hospital_admit_source    21409\n",
       "hematocrit_apache        19878\n",
       "                         ...  \n",
       "apache_post_operative        0\n",
       "hospital_death               0\n",
       "hospital_id                  0\n",
       "patient_id                   0\n",
       "encounter_id                 0\n",
       "Length: 111, dtype: int64"
      ]
     },
     "execution_count": 63,
     "metadata": {},
     "output_type": "execute_result"
    }
   ],
   "source": [
    "df_training.isna().sum().sort_values(ascending=False)"
   ]
  },
  {
   "cell_type": "code",
   "execution_count": 64,
   "metadata": {
    "colab": {},
    "colab_type": "code",
    "id": "DWSwCrl0wQXm"
   },
   "outputs": [],
   "source": [
    "# def age_category(x):\n",
    "#     if x in range(10):\n",
    "#         return \"Child\"\n",
    "#     elif x in range(10,20):\n",
    "#         return 'Teen'\n",
    "#     elif x in range(20,30):\n",
    "#         return 'Young Adult'\n",
    "#     elif x in range(30,50):\n",
    "#         return 'Adult'\n",
    "#     elif x in range(50,60):\n",
    "#         return 'Middle Age'\n",
    "#     else:\n",
    "#         return 'Old'\n",
    "\n",
    "# df['age_category']=df['age'].apply(age_category)"
   ]
  },
  {
   "cell_type": "code",
   "execution_count": 65,
   "metadata": {
    "colab": {
     "base_uri": "https://localhost:8080/",
     "height": 609
    },
    "colab_type": "code",
    "id": "yVOBPwiWIZB6",
    "outputId": "f2c2e400-cd9c-4b0b-9a63-3a7aad9d9263"
   },
   "outputs": [
    {
     "data": {
      "text/html": [
       "<div>\n",
       "<style scoped>\n",
       "    .dataframe tbody tr th:only-of-type {\n",
       "        vertical-align: middle;\n",
       "    }\n",
       "\n",
       "    .dataframe tbody tr th {\n",
       "        vertical-align: top;\n",
       "    }\n",
       "\n",
       "    .dataframe thead th {\n",
       "        text-align: right;\n",
       "    }\n",
       "</style>\n",
       "<table border=\"1\" class=\"dataframe\">\n",
       "  <thead>\n",
       "    <tr style=\"text-align: right;\">\n",
       "      <th></th>\n",
       "      <th>encounter_id</th>\n",
       "      <th>patient_id</th>\n",
       "      <th>hospital_id</th>\n",
       "      <th>hospital_death</th>\n",
       "      <th>age</th>\n",
       "      <th>bmi</th>\n",
       "      <th>elective_surgery</th>\n",
       "      <th>ethnicity</th>\n",
       "      <th>gender</th>\n",
       "      <th>height</th>\n",
       "      <th>...</th>\n",
       "      <th>aids</th>\n",
       "      <th>cirrhosis</th>\n",
       "      <th>diabetes_mellitus</th>\n",
       "      <th>hepatic_failure</th>\n",
       "      <th>immunosuppression</th>\n",
       "      <th>leukemia</th>\n",
       "      <th>lymphoma</th>\n",
       "      <th>solid_tumor_with_metastasis</th>\n",
       "      <th>apache_3j_bodysystem</th>\n",
       "      <th>apache_2_bodysystem</th>\n",
       "    </tr>\n",
       "  </thead>\n",
       "  <tbody>\n",
       "    <tr>\n",
       "      <th>61541</th>\n",
       "      <td>89333</td>\n",
       "      <td>4741</td>\n",
       "      <td>19</td>\n",
       "      <td>1</td>\n",
       "      <td>78.0</td>\n",
       "      <td>27.439446</td>\n",
       "      <td>0</td>\n",
       "      <td>Caucasian</td>\n",
       "      <td>F</td>\n",
       "      <td>170.0</td>\n",
       "      <td>...</td>\n",
       "      <td>0.0</td>\n",
       "      <td>0.0</td>\n",
       "      <td>0.0</td>\n",
       "      <td>0.0</td>\n",
       "      <td>0.0</td>\n",
       "      <td>0.0</td>\n",
       "      <td>0.0</td>\n",
       "      <td>0.0</td>\n",
       "      <td>Neurological</td>\n",
       "      <td>Neurologic</td>\n",
       "    </tr>\n",
       "    <tr>\n",
       "      <th>61542</th>\n",
       "      <td>4100</td>\n",
       "      <td>38217</td>\n",
       "      <td>19</td>\n",
       "      <td>0</td>\n",
       "      <td>55.0</td>\n",
       "      <td>19.140625</td>\n",
       "      <td>0</td>\n",
       "      <td>Caucasian</td>\n",
       "      <td>F</td>\n",
       "      <td>160.0</td>\n",
       "      <td>...</td>\n",
       "      <td>0.0</td>\n",
       "      <td>0.0</td>\n",
       "      <td>0.0</td>\n",
       "      <td>0.0</td>\n",
       "      <td>0.0</td>\n",
       "      <td>0.0</td>\n",
       "      <td>0.0</td>\n",
       "      <td>0.0</td>\n",
       "      <td>Respiratory</td>\n",
       "      <td>Respiratory</td>\n",
       "    </tr>\n",
       "    <tr>\n",
       "      <th>61544</th>\n",
       "      <td>108140</td>\n",
       "      <td>28249</td>\n",
       "      <td>19</td>\n",
       "      <td>0</td>\n",
       "      <td>36.0</td>\n",
       "      <td>22.519964</td>\n",
       "      <td>1</td>\n",
       "      <td>Asian</td>\n",
       "      <td>M</td>\n",
       "      <td>173.0</td>\n",
       "      <td>...</td>\n",
       "      <td>0.0</td>\n",
       "      <td>0.0</td>\n",
       "      <td>0.0</td>\n",
       "      <td>0.0</td>\n",
       "      <td>0.0</td>\n",
       "      <td>0.0</td>\n",
       "      <td>0.0</td>\n",
       "      <td>0.0</td>\n",
       "      <td>Neurological</td>\n",
       "      <td>Neurologic</td>\n",
       "    </tr>\n",
       "    <tr>\n",
       "      <th>61545</th>\n",
       "      <td>62641</td>\n",
       "      <td>67833</td>\n",
       "      <td>19</td>\n",
       "      <td>0</td>\n",
       "      <td>79.0</td>\n",
       "      <td>39.331552</td>\n",
       "      <td>0</td>\n",
       "      <td>Caucasian</td>\n",
       "      <td>F</td>\n",
       "      <td>163.0</td>\n",
       "      <td>...</td>\n",
       "      <td>0.0</td>\n",
       "      <td>0.0</td>\n",
       "      <td>1.0</td>\n",
       "      <td>0.0</td>\n",
       "      <td>0.0</td>\n",
       "      <td>0.0</td>\n",
       "      <td>0.0</td>\n",
       "      <td>0.0</td>\n",
       "      <td>Metabolic</td>\n",
       "      <td>Metabolic</td>\n",
       "    </tr>\n",
       "    <tr>\n",
       "      <th>61547</th>\n",
       "      <td>679</td>\n",
       "      <td>114553</td>\n",
       "      <td>19</td>\n",
       "      <td>0</td>\n",
       "      <td>75.0</td>\n",
       "      <td>34.605866</td>\n",
       "      <td>0</td>\n",
       "      <td>Caucasian</td>\n",
       "      <td>F</td>\n",
       "      <td>157.0</td>\n",
       "      <td>...</td>\n",
       "      <td>0.0</td>\n",
       "      <td>0.0</td>\n",
       "      <td>0.0</td>\n",
       "      <td>0.0</td>\n",
       "      <td>0.0</td>\n",
       "      <td>0.0</td>\n",
       "      <td>0.0</td>\n",
       "      <td>0.0</td>\n",
       "      <td>Neurological</td>\n",
       "      <td>Neurologic</td>\n",
       "    </tr>\n",
       "    <tr>\n",
       "      <th>...</th>\n",
       "      <td>...</td>\n",
       "      <td>...</td>\n",
       "      <td>...</td>\n",
       "      <td>...</td>\n",
       "      <td>...</td>\n",
       "      <td>...</td>\n",
       "      <td>...</td>\n",
       "      <td>...</td>\n",
       "      <td>...</td>\n",
       "      <td>...</td>\n",
       "      <td>...</td>\n",
       "      <td>...</td>\n",
       "      <td>...</td>\n",
       "      <td>...</td>\n",
       "      <td>...</td>\n",
       "      <td>...</td>\n",
       "      <td>...</td>\n",
       "      <td>...</td>\n",
       "      <td>...</td>\n",
       "      <td>...</td>\n",
       "      <td>...</td>\n",
       "    </tr>\n",
       "    <tr>\n",
       "      <th>67520</th>\n",
       "      <td>113044</td>\n",
       "      <td>25845</td>\n",
       "      <td>19</td>\n",
       "      <td>0</td>\n",
       "      <td>60.0</td>\n",
       "      <td>43.413111</td>\n",
       "      <td>1</td>\n",
       "      <td>Caucasian</td>\n",
       "      <td>F</td>\n",
       "      <td>155.0</td>\n",
       "      <td>...</td>\n",
       "      <td>0.0</td>\n",
       "      <td>0.0</td>\n",
       "      <td>0.0</td>\n",
       "      <td>0.0</td>\n",
       "      <td>0.0</td>\n",
       "      <td>0.0</td>\n",
       "      <td>0.0</td>\n",
       "      <td>0.0</td>\n",
       "      <td>Neurological</td>\n",
       "      <td>Neurologic</td>\n",
       "    </tr>\n",
       "    <tr>\n",
       "      <th>67523</th>\n",
       "      <td>20470</td>\n",
       "      <td>130385</td>\n",
       "      <td>19</td>\n",
       "      <td>0</td>\n",
       "      <td>47.0</td>\n",
       "      <td>36.995918</td>\n",
       "      <td>0</td>\n",
       "      <td>Caucasian</td>\n",
       "      <td>M</td>\n",
       "      <td>175.0</td>\n",
       "      <td>...</td>\n",
       "      <td>0.0</td>\n",
       "      <td>0.0</td>\n",
       "      <td>1.0</td>\n",
       "      <td>0.0</td>\n",
       "      <td>0.0</td>\n",
       "      <td>0.0</td>\n",
       "      <td>0.0</td>\n",
       "      <td>0.0</td>\n",
       "      <td>Neurological</td>\n",
       "      <td>Neurologic</td>\n",
       "    </tr>\n",
       "    <tr>\n",
       "      <th>67525</th>\n",
       "      <td>58703</td>\n",
       "      <td>64819</td>\n",
       "      <td>19</td>\n",
       "      <td>0</td>\n",
       "      <td>77.0</td>\n",
       "      <td>41.345790</td>\n",
       "      <td>0</td>\n",
       "      <td>Caucasian</td>\n",
       "      <td>M</td>\n",
       "      <td>178.0</td>\n",
       "      <td>...</td>\n",
       "      <td>0.0</td>\n",
       "      <td>0.0</td>\n",
       "      <td>0.0</td>\n",
       "      <td>0.0</td>\n",
       "      <td>0.0</td>\n",
       "      <td>0.0</td>\n",
       "      <td>0.0</td>\n",
       "      <td>0.0</td>\n",
       "      <td>Neurological</td>\n",
       "      <td>Neurologic</td>\n",
       "    </tr>\n",
       "    <tr>\n",
       "      <th>67526</th>\n",
       "      <td>120740</td>\n",
       "      <td>99000</td>\n",
       "      <td>19</td>\n",
       "      <td>0</td>\n",
       "      <td>56.0</td>\n",
       "      <td>31.279159</td>\n",
       "      <td>0</td>\n",
       "      <td>Caucasian</td>\n",
       "      <td>M</td>\n",
       "      <td>157.0</td>\n",
       "      <td>...</td>\n",
       "      <td>0.0</td>\n",
       "      <td>0.0</td>\n",
       "      <td>1.0</td>\n",
       "      <td>0.0</td>\n",
       "      <td>0.0</td>\n",
       "      <td>0.0</td>\n",
       "      <td>0.0</td>\n",
       "      <td>0.0</td>\n",
       "      <td>Cardiovascular</td>\n",
       "      <td>Cardiovascular</td>\n",
       "    </tr>\n",
       "    <tr>\n",
       "      <th>67530</th>\n",
       "      <td>58329</td>\n",
       "      <td>8166</td>\n",
       "      <td>19</td>\n",
       "      <td>0</td>\n",
       "      <td>75.0</td>\n",
       "      <td>58.171745</td>\n",
       "      <td>0</td>\n",
       "      <td>Caucasian</td>\n",
       "      <td>F</td>\n",
       "      <td>152.0</td>\n",
       "      <td>...</td>\n",
       "      <td>0.0</td>\n",
       "      <td>0.0</td>\n",
       "      <td>0.0</td>\n",
       "      <td>0.0</td>\n",
       "      <td>0.0</td>\n",
       "      <td>0.0</td>\n",
       "      <td>0.0</td>\n",
       "      <td>0.0</td>\n",
       "      <td>Respiratory</td>\n",
       "      <td>Respiratory</td>\n",
       "    </tr>\n",
       "  </tbody>\n",
       "</table>\n",
       "<p>3925 rows × 111 columns</p>\n",
       "</div>"
      ],
      "text/plain": [
       "       encounter_id  patient_id  hospital_id  hospital_death   age        bmi  \\\n",
       "61541         89333        4741           19               1  78.0  27.439446   \n",
       "61542          4100       38217           19               0  55.0  19.140625   \n",
       "61544        108140       28249           19               0  36.0  22.519964   \n",
       "61545         62641       67833           19               0  79.0  39.331552   \n",
       "61547           679      114553           19               0  75.0  34.605866   \n",
       "...             ...         ...          ...             ...   ...        ...   \n",
       "67520        113044       25845           19               0  60.0  43.413111   \n",
       "67523         20470      130385           19               0  47.0  36.995918   \n",
       "67525         58703       64819           19               0  77.0  41.345790   \n",
       "67526        120740       99000           19               0  56.0  31.279159   \n",
       "67530         58329        8166           19               0  75.0  58.171745   \n",
       "\n",
       "       elective_surgery  ethnicity gender  height  ... aids cirrhosis  \\\n",
       "61541                 0  Caucasian      F   170.0  ...  0.0       0.0   \n",
       "61542                 0  Caucasian      F   160.0  ...  0.0       0.0   \n",
       "61544                 1      Asian      M   173.0  ...  0.0       0.0   \n",
       "61545                 0  Caucasian      F   163.0  ...  0.0       0.0   \n",
       "61547                 0  Caucasian      F   157.0  ...  0.0       0.0   \n",
       "...                 ...        ...    ...     ...  ...  ...       ...   \n",
       "67520                 1  Caucasian      F   155.0  ...  0.0       0.0   \n",
       "67523                 0  Caucasian      M   175.0  ...  0.0       0.0   \n",
       "67525                 0  Caucasian      M   178.0  ...  0.0       0.0   \n",
       "67526                 0  Caucasian      M   157.0  ...  0.0       0.0   \n",
       "67530                 0  Caucasian      F   152.0  ...  0.0       0.0   \n",
       "\n",
       "       diabetes_mellitus hepatic_failure immunosuppression  leukemia  \\\n",
       "61541                0.0             0.0               0.0       0.0   \n",
       "61542                0.0             0.0               0.0       0.0   \n",
       "61544                0.0             0.0               0.0       0.0   \n",
       "61545                1.0             0.0               0.0       0.0   \n",
       "61547                0.0             0.0               0.0       0.0   \n",
       "...                  ...             ...               ...       ...   \n",
       "67520                0.0             0.0               0.0       0.0   \n",
       "67523                1.0             0.0               0.0       0.0   \n",
       "67525                0.0             0.0               0.0       0.0   \n",
       "67526                1.0             0.0               0.0       0.0   \n",
       "67530                0.0             0.0               0.0       0.0   \n",
       "\n",
       "       lymphoma  solid_tumor_with_metastasis  apache_3j_bodysystem  \\\n",
       "61541       0.0                          0.0          Neurological   \n",
       "61542       0.0                          0.0           Respiratory   \n",
       "61544       0.0                          0.0          Neurological   \n",
       "61545       0.0                          0.0             Metabolic   \n",
       "61547       0.0                          0.0          Neurological   \n",
       "...         ...                          ...                   ...   \n",
       "67520       0.0                          0.0          Neurological   \n",
       "67523       0.0                          0.0          Neurological   \n",
       "67525       0.0                          0.0          Neurological   \n",
       "67526       0.0                          0.0        Cardiovascular   \n",
       "67530       0.0                          0.0           Respiratory   \n",
       "\n",
       "       apache_2_bodysystem  \n",
       "61541           Neurologic  \n",
       "61542          Respiratory  \n",
       "61544           Neurologic  \n",
       "61545            Metabolic  \n",
       "61547           Neurologic  \n",
       "...                    ...  \n",
       "67520           Neurologic  \n",
       "67523           Neurologic  \n",
       "67525           Neurologic  \n",
       "67526       Cardiovascular  \n",
       "67530          Respiratory  \n",
       "\n",
       "[3925 rows x 111 columns]"
      ]
     },
     "execution_count": 65,
     "metadata": {},
     "output_type": "execute_result"
    }
   ],
   "source": [
    "df_training[df_training['hospital_id']== 19]"
   ]
  },
  {
   "cell_type": "code",
   "execution_count": 66,
   "metadata": {
    "colab": {
     "base_uri": "https://localhost:8080/",
     "height": 238
    },
    "colab_type": "code",
    "id": "qr9sUJceHyLX",
    "outputId": "189e8dd3-8f2a-4ea5-fba3-a55c20e9927d"
   },
   "outputs": [
    {
     "data": {
      "text/plain": [
       "hospital_id\n",
       "93     0.000000\n",
       "38     0.000000\n",
       "4      0.000000\n",
       "66     0.000000\n",
       "85     0.000000\n",
       "         ...   \n",
       "145    0.178862\n",
       "29     0.180000\n",
       "155    0.206522\n",
       "51     0.290909\n",
       "130    0.500000\n",
       "Name: hospital_death, Length: 147, dtype: float64"
      ]
     },
     "execution_count": 66,
     "metadata": {},
     "output_type": "execute_result"
    }
   ],
   "source": [
    "df_training.groupby('hospital_id')['hospital_death'].apply(lambda x: sum(x)/len(x)).sort_values()"
   ]
  },
  {
   "cell_type": "code",
   "execution_count": 67,
   "metadata": {
    "colab": {
     "base_uri": "https://localhost:8080/",
     "height": 51
    },
    "colab_type": "code",
    "id": "otygnzQ_IE7U",
    "outputId": "fb6a1cc5-2422-4288-8c69-b1c5d5999227"
   },
   "outputs": [
    {
     "name": "stdout",
     "output_type": "stream",
     "text": [
      "Training Shape :  (91713, 110)\n",
      "Test Shape :  (39308, 110)\n"
     ]
    }
   ],
   "source": [
    "target_col = 'hospital_death'\n",
    "df_training_y = df_training[target_col]\n",
    "df_training.drop(target_col,axis=1, inplace=True)\n",
    "df_test.drop(target_col,axis=1, inplace=True)\n",
    "\n",
    "print(\"Training Shape : \" ,df_training.shape)\n",
    "print(\"Test Shape : \" ,df_test.shape)"
   ]
  },
  {
   "cell_type": "code",
   "execution_count": 68,
   "metadata": {
    "colab": {
     "base_uri": "https://localhost:8080/",
     "height": 34
    },
    "colab_type": "code",
    "id": "aMyGMEZnwQXu",
    "outputId": "b44a2eed-e144-4478-9a99-300bf0f02add"
   },
   "outputs": [
    {
     "data": {
      "text/plain": [
       "8"
      ]
     },
     "execution_count": 68,
     "metadata": {},
     "output_type": "execute_result"
    }
   ],
   "source": [
    "categorical_cols  = [c for c in df_training.columns if (df_training[c].nunique()>1) & (df_training[c].dtype != np.number) & (df_training[c].dtype != np.int64 ) ]\n",
    "#or\n",
    "categorical_cols = df_training.columns[df_training.dtypes == object]\n",
    "len(categorical_cols)"
   ]
  },
  {
   "cell_type": "code",
   "execution_count": null,
   "metadata": {
    "colab": {},
    "colab_type": "code",
    "id": "G4Br0x3hIIT2"
   },
   "outputs": [],
   "source": []
  },
  {
   "cell_type": "code",
   "execution_count": 69,
   "metadata": {
    "colab": {
     "base_uri": "https://localhost:8080/",
     "height": 170
    },
    "colab_type": "code",
    "id": "JHTkNi43wQX-",
    "outputId": "6cb3f47a-da74-47aa-fbd6-557673a284d6"
   },
   "outputs": [
    {
     "data": {
      "text/plain": [
       "ethnicity                 1395\n",
       "gender                      25\n",
       "hospital_admit_source    21409\n",
       "icu_admit_source           112\n",
       "icu_stay_type                0\n",
       "icu_type                     0\n",
       "apache_3j_bodysystem      1662\n",
       "apache_2_bodysystem       1662\n",
       "dtype: int64"
      ]
     },
     "execution_count": 69,
     "metadata": {},
     "output_type": "execute_result"
    }
   ],
   "source": [
    "categorical_cols_without_nans = categorical_cols[df_training[categorical_cols].isna().sum()>0]\n",
    "df_training[categorical_cols].isna().sum()\n",
    "#df_test[categorical_cols].isna().sum()"
   ]
  },
  {
   "cell_type": "code",
   "execution_count": 70,
   "metadata": {
    "colab": {},
    "colab_type": "code",
    "id": "YU5Nl0qowQYG"
   },
   "outputs": [],
   "source": [
    "# df_training[categorical_cols]  = df_training[categorical_cols].fillna('NaN')\n",
    "# df_test[categorical_cols]  = df_test[categorical_cols].fillna('NaN')"
   ]
  },
  {
   "cell_type": "code",
   "execution_count": 71,
   "metadata": {
    "colab": {},
    "colab_type": "code",
    "id": "gmb10y7L8IGO"
   },
   "outputs": [],
   "source": [
    "df_training['hospital_admit_source'] = df_training['hospital_admit_source'].replace({'Other ICU': 'ICU','ICU to SDU':'SDU', 'Step-Down Unit (SDU)': 'SDU', 'Other Hospital':'Other','Observation': 'Recovery Room','Acute Care/Floor': 'Acute Care'})\n",
    "\n",
    "# combined_dataset['icu_type'] = combined_dataset['icu_type'].replace({'CCU-CTICU': 'Grpd_CICU', 'CTICU':'Grpd_CICU', 'Cardiac ICU':'Grpd_CICU'})\n",
    "\n",
    "df_training['apache_2_bodysystem'] = df_training['apache_2_bodysystem'].replace({'Undefined diagnoses': 'Undefined Diagnoses'})\n",
    "\n",
    "df_test['hospital_admit_source'] = df_test['hospital_admit_source'].replace({'Other ICU': 'ICU','ICU to SDU':'SDU', 'Step-Down Unit (SDU)': 'SDU', 'Other Hospital':'Other','Observation': 'Recovery Room','Acute Care/Floor': 'Acute Care'})\n",
    "\n",
    "# df_test['icu_type'] = df_test['icu_type'].replace({'CCU-CTICU': 'Grpd_CICU', 'CTICU':'Grpd_CICU', 'Cardiac ICU':'Grpd_CICU'})\n",
    "\n",
    "df_test['apache_2_bodysystem'] = df_test['apache_2_bodysystem'].replace({'Undefined diagnoses': 'Undefined Diagnoses'})"
   ]
  },
  {
   "cell_type": "code",
   "execution_count": 72,
   "metadata": {
    "colab": {},
    "colab_type": "code",
    "id": "6v1U4QlSwQYO"
   },
   "outputs": [],
   "source": [
    "from sklearn.preprocessing import OneHotEncoder\n",
    "from sklearn.preprocessing import LabelEncoder\n",
    "le = LabelEncoder()\n",
    "ohe = OneHotEncoder()"
   ]
  },
  {
   "cell_type": "code",
   "execution_count": 73,
   "metadata": {
    "colab": {
     "base_uri": "https://localhost:8080/",
     "height": 170
    },
    "colab_type": "code",
    "id": "sheXM3eNwQYi",
    "outputId": "0e4d0e23-891f-4535-bbe9-fc5c5d3a7a65"
   },
   "outputs": [
    {
     "data": {
      "text/plain": [
       "ethnicity                 1395\n",
       "gender                      25\n",
       "hospital_admit_source    21409\n",
       "icu_admit_source           112\n",
       "icu_stay_type                0\n",
       "icu_type                     0\n",
       "apache_3j_bodysystem      1662\n",
       "apache_2_bodysystem       1662\n",
       "dtype: int64"
      ]
     },
     "execution_count": 73,
     "metadata": {},
     "output_type": "execute_result"
    }
   ],
   "source": [
    "df_training[categorical_cols].isna().sum()"
   ]
  },
  {
   "cell_type": "code",
   "execution_count": 74,
   "metadata": {
    "colab": {},
    "colab_type": "code",
    "id": "PL1nNWGBwQYq"
   },
   "outputs": [],
   "source": [
    "for i in categorical_cols:\n",
    "    le.fit(df_training[i].dropna().unique())\n",
    "    df_training[i] =  pd.Series( le.transform(df_training[i][df_training[i].notnull()]) , index=df_training[i][df_training[i].notnull()].index)\n",
    "    df_test[i] =  pd.Series( le.transform(df_test[i][df_test[i].notnull()]) , index=df_test[i][df_test[i].notnull()].index)\n",
    "    "
   ]
  },
  {
   "cell_type": "code",
   "execution_count": 75,
   "metadata": {
    "colab": {
     "base_uri": "https://localhost:8080/",
     "height": 122
    },
    "colab_type": "code",
    "id": "aroAhMW9wQY7",
    "outputId": "adc571f8-e052-4ed3-a4e6-6fdc234d6941"
   },
   "outputs": [
    {
     "name": "stdout",
     "output_type": "stream",
     "text": [
      "Requirement already satisfied: missingpy in c:\\users\\sushumna.chiluveru\\appdata\\local\\continuum\\anaconda5\\lib\\site-packages (0.2.0)\n"
     ]
    }
   ],
   "source": [
    "!pip install missingpy"
   ]
  },
  {
   "cell_type": "code",
   "execution_count": 76,
   "metadata": {
    "colab": {
     "base_uri": "https://localhost:8080/",
     "height": 71
    },
    "colab_type": "code",
    "id": "878LKsv_wQZD",
    "outputId": "ab476cc0-e793-4687-bbbc-6b33e6f15073"
   },
   "outputs": [],
   "source": [
    "# from missingpy import MissForest\n",
    "# imputer = MissForest()\n",
    "# X_imputed = imputer.fit_transform(df_training.values)"
   ]
  },
  {
   "cell_type": "code",
   "execution_count": 77,
   "metadata": {
    "colab": {},
    "colab_type": "code",
    "id": "sxjTdU2J19Wm"
   },
   "outputs": [],
   "source": [
    "# from missingpy import KNNImputer\n",
    "# imputer = KNNImputer()\n",
    "# X_imputed  = imputer.fit(df_training[categorical_cols].values)"
   ]
  },
  {
   "cell_type": "code",
   "execution_count": 78,
   "metadata": {
    "colab": {},
    "colab_type": "code",
    "id": "ceFCHz1yGFU7"
   },
   "outputs": [],
   "source": [
    "# df_training.to_csv('df_training.csv', index=False)\n",
    "# df_test.to_csv('df_test.csv', index=False)\n",
    "# df_training_y.to_csv('df_training_y.csv', index=False)"
   ]
  },
  {
   "cell_type": "code",
   "execution_count": 79,
   "metadata": {
    "colab": {
     "base_uri": "https://localhost:8080/",
     "height": 221
    },
    "colab_type": "code",
    "id": "fy1oVtze90P_",
    "outputId": "4f02ffab-0d23-4f50-ecb3-752b70d2c791"
   },
   "outputs": [
    {
     "data": {
      "text/plain": [
       "118    4333\n",
       "19     3925\n",
       "188    3095\n",
       "161    2792\n",
       "70     2754\n",
       "       ... \n",
       "4         7\n",
       "23        7\n",
       "93        6\n",
       "95        6\n",
       "130       2\n",
       "Name: hospital_id, Length: 147, dtype: int64"
      ]
     },
     "execution_count": 79,
     "metadata": {},
     "output_type": "execute_result"
    }
   ],
   "source": [
    "df_training['hospital_id'].value_counts()"
   ]
  },
  {
   "cell_type": "code",
   "execution_count": 80,
   "metadata": {
    "colab": {},
    "colab_type": "code",
    "id": "UCMzw3xjKG-Y"
   },
   "outputs": [],
   "source": [
    "# import sklearn\n",
    "# sklearn.__version__"
   ]
  },
  {
   "cell_type": "code",
   "execution_count": 81,
   "metadata": {
    "colab": {
     "base_uri": "https://localhost:8080/",
     "height": 51
    },
    "colab_type": "code",
    "id": "8_Z2SI0dKccz",
    "outputId": "8a67817a-6f45-433b-a7c0-c66589841562"
   },
   "outputs": [],
   "source": [
    "# from sklearn.impute import KNNImputer\n",
    "# imputer = KNNImputer()\n",
    "# imputer.fit(df_training[categorical_cols].values)"
   ]
  },
  {
   "cell_type": "code",
   "execution_count": 82,
   "metadata": {
    "colab": {},
    "colab_type": "code",
    "id": "dCrPvHJk5qVZ"
   },
   "outputs": [],
   "source": [
    "# X_imputed  = imputer.transform(df_training[categorical_cols].values)"
   ]
  },
  {
   "cell_type": "code",
   "execution_count": 83,
   "metadata": {
    "colab": {
     "base_uri": "https://localhost:8080/",
     "height": 34
    },
    "colab_type": "code",
    "id": "8iw69pIMU3L1",
    "outputId": "755ad731-d894-4388-cd57-8b375c62e682"
   },
   "outputs": [],
   "source": [
    "# df_training[categorical_cols].values.shape"
   ]
  },
  {
   "cell_type": "code",
   "execution_count": 84,
   "metadata": {
    "colab": {},
    "colab_type": "code",
    "id": "0ArW3qSdVSl7"
   },
   "outputs": [],
   "source": [
    "from sklearn.experimental import enable_iterative_imputer  # noqa\n",
    "# now you can import normally from sklearn.impute\n",
    "from sklearn.impute import IterativeImputer"
   ]
  },
  {
   "cell_type": "code",
   "execution_count": 85,
   "metadata": {
    "colab": {},
    "colab_type": "code",
    "id": "dPfGJpHIWIWL"
   },
   "outputs": [],
   "source": [
    "imp_mean = IterativeImputer(max_iter= 20, random_state=0)"
   ]
  },
  {
   "cell_type": "code",
   "execution_count": 86,
   "metadata": {
    "colab": {
     "base_uri": "https://localhost:8080/",
     "height": 119
    },
    "colab_type": "code",
    "id": "3S3kvZzQWcKs",
    "outputId": "099a247c-5147-4df4-ac7f-6614d611e881"
   },
   "outputs": [
    {
     "data": {
      "text/plain": [
       "IterativeImputer(add_indicator=False, estimator=None,\n",
       "                 imputation_order='ascending', initial_strategy='mean',\n",
       "                 max_iter=20, max_value=None, min_value=None,\n",
       "                 missing_values=nan, n_nearest_features=None, random_state=0,\n",
       "                 sample_posterior=False, skip_complete=False, tol=0.001,\n",
       "                 verbose=0)"
      ]
     },
     "execution_count": 86,
     "metadata": {},
     "output_type": "execute_result"
    }
   ],
   "source": [
    "imp_mean.fit(df_training.values)"
   ]
  },
  {
   "cell_type": "code",
   "execution_count": 87,
   "metadata": {
    "colab": {},
    "colab_type": "code",
    "id": "bmwbCiFLWiSk"
   },
   "outputs": [],
   "source": [
    "X_transformed = imp_mean.transform(df_training.values)"
   ]
  },
  {
   "cell_type": "code",
   "execution_count": 88,
   "metadata": {
    "colab": {},
    "colab_type": "code",
    "id": "8pLVdfajWpta"
   },
   "outputs": [],
   "source": [
    "df_transformed  = pd.DataFrame(X_transformed, columns=df_training.columns)"
   ]
  },
  {
   "cell_type": "code",
   "execution_count": 89,
   "metadata": {
    "colab": {
     "base_uri": "https://localhost:8080/",
     "height": 221
    },
    "colab_type": "code",
    "id": "8wMkqZGzWsWQ",
    "outputId": "7304860f-b2dc-4aec-e5f9-30073ba357ca"
   },
   "outputs": [
    {
     "data": {
      "text/plain": [
       "encounter_id                   0\n",
       "patient_id                     0\n",
       "hospital_id                    0\n",
       "age                            0\n",
       "bmi                            0\n",
       "                              ..\n",
       "leukemia                       0\n",
       "lymphoma                       0\n",
       "solid_tumor_with_metastasis    0\n",
       "apache_3j_bodysystem           0\n",
       "apache_2_bodysystem            0\n",
       "Length: 110, dtype: int64"
      ]
     },
     "execution_count": 89,
     "metadata": {},
     "output_type": "execute_result"
    }
   ],
   "source": [
    "df_transformed.isna().sum()"
   ]
  },
  {
   "cell_type": "code",
   "execution_count": 90,
   "metadata": {
    "colab": {},
    "colab_type": "code",
    "id": "68qNuXGjW9_S"
   },
   "outputs": [],
   "source": [
    "df_transformed[categorical_cols] = round(df_transformed[categorical_cols])"
   ]
  },
  {
   "cell_type": "code",
   "execution_count": 91,
   "metadata": {
    "colab": {
     "base_uri": "https://localhost:8080/",
     "height": 136
    },
    "colab_type": "code",
    "id": "rlxtY1IlXd19",
    "outputId": "b7cb0bfd-4d29-45b5-c8d7-ea4c33ba08f5"
   },
   "outputs": [
    {
     "data": {
      "text/plain": [
       "2.0    70684\n",
       "0.0     9547\n",
       "5.0     4374\n",
       "3.0     3796\n",
       "1.0     1129\n",
       "4.0      788\n",
       "Name: ethnicity, dtype: int64"
      ]
     },
     "execution_count": 91,
     "metadata": {},
     "output_type": "execute_result"
    }
   ],
   "source": [
    "df_training[categorical_cols[0]].value_counts()"
   ]
  },
  {
   "cell_type": "code",
   "execution_count": 92,
   "metadata": {
    "colab": {
     "base_uri": "https://localhost:8080/",
     "height": 136
    },
    "colab_type": "code",
    "id": "XfEtaZK9Xk9R",
    "outputId": "b7b2540f-c018-46f1-e554-4f34a25f1fe6"
   },
   "outputs": [
    {
     "data": {
      "text/plain": [
       "2.0    72055\n",
       "0.0     9547\n",
       "5.0     4374\n",
       "3.0     3807\n",
       "1.0     1142\n",
       "4.0      788\n",
       "Name: ethnicity, dtype: int64"
      ]
     },
     "execution_count": 92,
     "metadata": {},
     "output_type": "execute_result"
    }
   ],
   "source": [
    "df_transformed[categorical_cols[0]].value_counts()"
   ]
  },
  {
   "cell_type": "code",
   "execution_count": 93,
   "metadata": {
    "colab": {},
    "colab_type": "code",
    "id": "KwKJtuNEegsI"
   },
   "outputs": [],
   "source": [
    "X_transformed = imp_mean.transform(df_test.values)\n",
    "df_transformed_test  = pd.DataFrame(X_transformed, columns=df_test.columns)\n",
    "df_transformed_test[categorical_cols] = round(df_transformed_test[categorical_cols])"
   ]
  },
  {
   "cell_type": "code",
   "execution_count": 94,
   "metadata": {
    "colab": {
     "base_uri": "https://localhost:8080/",
     "height": 221
    },
    "colab_type": "code",
    "id": "LwekQ3HCHRhn",
    "outputId": "20ed0c34-156d-4267-a11c-bed8fe9dc2e9"
   },
   "outputs": [
    {
     "data": {
      "text/plain": [
       "118.0    4333\n",
       "19.0     3925\n",
       "188.0    3095\n",
       "161.0    2792\n",
       "70.0     2754\n",
       "         ... \n",
       "23.0        7\n",
       "4.0         7\n",
       "95.0        6\n",
       "93.0        6\n",
       "130.0       2\n",
       "Name: hospital_id, Length: 147, dtype: int64"
      ]
     },
     "execution_count": 94,
     "metadata": {},
     "output_type": "execute_result"
    }
   ],
   "source": [
    "df_transformed['hospital_id'].value_counts()"
   ]
  },
  {
   "cell_type": "code",
   "execution_count": 95,
   "metadata": {
    "colab": {},
    "colab_type": "code",
    "id": "Nsv2s8Fa5C8R"
   },
   "outputs": [],
   "source": [
    "from sklearn.model_selection import train_test_split\n",
    "from sklearn.preprocessing import MinMaxScaler"
   ]
  },
  {
   "cell_type": "code",
   "execution_count": 96,
   "metadata": {
    "colab": {},
    "colab_type": "code",
    "id": "1LSLDLGhhaWR"
   },
   "outputs": [],
   "source": [
    "from sklearn.ensemble import RandomForestClassifier\n",
    "mdl = RandomForestClassifier()"
   ]
  },
  {
   "cell_type": "code",
   "execution_count": 97,
   "metadata": {
    "colab": {},
    "colab_type": "code",
    "id": "_yL3AymfvU7u"
   },
   "outputs": [],
   "source": [
    "numeric_cols =  list(set(df_training.columns) - set(categorical_cols))"
   ]
  },
  {
   "cell_type": "code",
   "execution_count": 98,
   "metadata": {
    "colab": {},
    "colab_type": "code",
    "id": "UPhDPXvqwUfJ"
   },
   "outputs": [],
   "source": [
    "scaler = MinMaxScaler()\n",
    "df_transformed[numeric_cols] = scaler.fit_transform(df_transformed[numeric_cols])\n",
    "df_transformed_test[numeric_cols] = scaler.transform(df_transformed_test[numeric_cols])"
   ]
  },
  {
   "cell_type": "code",
   "execution_count": 99,
   "metadata": {
    "colab": {
     "base_uri": "https://localhost:8080/",
     "height": 221
    },
    "colab_type": "code",
    "id": "tfpeJmiML7zQ",
    "outputId": "eadc5848-0f8f-4064-e330-993c018cfd37"
   },
   "outputs": [
    {
     "data": {
      "text/plain": [
       "3.0     36962\n",
       "6.0      9787\n",
       "4.0      8055\n",
       "2.0      6441\n",
       "9.0      2906\n",
       "0.0      1910\n",
       "7.0      1648\n",
       "10.0     1176\n",
       "8.0      1017\n",
       "5.0       268\n",
       "1.0       134\n",
       "Name: hospital_admit_source, dtype: int64"
      ]
     },
     "execution_count": 99,
     "metadata": {},
     "output_type": "execute_result"
    }
   ],
   "source": [
    "df_training['hospital_admit_source'].value_counts()"
   ]
  },
  {
   "cell_type": "code",
   "execution_count": 100,
   "metadata": {
    "colab": {},
    "colab_type": "code",
    "id": "zpbTZswSQba-"
   },
   "outputs": [],
   "source": [
    "# df_training[categorical_cols].apply(pd.Series.value_counts)"
   ]
  },
  {
   "cell_type": "code",
   "execution_count": 101,
   "metadata": {
    "colab": {},
    "colab_type": "code",
    "id": "791BS0xuKF5k"
   },
   "outputs": [],
   "source": [
    "# df_transformed[categorical_cols].apply(pd.Series.value_counts)"
   ]
  },
  {
   "cell_type": "code",
   "execution_count": 102,
   "metadata": {
    "colab": {},
    "colab_type": "code",
    "id": "6XbPCihz18iK"
   },
   "outputs": [],
   "source": [
    "df_dummies_train  = pd.get_dummies(df_transformed[categorical_cols].astype(int).astype(str))\n",
    "df_dummies_test = pd.get_dummies(df_transformed_test[categorical_cols].astype(int).astype(str))"
   ]
  },
  {
   "cell_type": "code",
   "execution_count": 103,
   "metadata": {
    "colab": {},
    "colab_type": "code",
    "id": "ch9pKHv2LkpY"
   },
   "outputs": [],
   "source": [
    "param_grid = { \n",
    "    'n_estimators': range(50,200),\n",
    "    'max_features':['auto', 'sqrt', 'log2'],\n",
    "    'max_depth' : range(1,100),\n",
    "    'criterion' :['gini','entropy']\n",
    "}"
   ]
  },
  {
   "cell_type": "code",
   "execution_count": 104,
   "metadata": {},
   "outputs": [],
   "source": [
    "from sklearn.model_selection import train_test_split\n",
    "from sklearn.model_selection import cross_val_score\n",
    "from sklearn.model_selection import GridSearchCV\n",
    "from sklearn.ensemble import RandomForestClassifier\n",
    "from sklearn.metrics import accuracy_score\n",
    "from sklearn.svm import SVC\n",
    "\n",
    "CV_rfc = GridSearchCV(estimator=mdl, param_grid=param_grid, cv= 5)"
   ]
  },
  {
   "cell_type": "code",
   "execution_count": 105,
   "metadata": {},
   "outputs": [],
   "source": [
    "df_dummies_train.drop( list(set(df_dummies_train.columns) - set(df_dummies_test.columns)), axis=1, inplace=True )"
   ]
  },
  {
   "cell_type": "code",
   "execution_count": 106,
   "metadata": {},
   "outputs": [],
   "source": [
    "df_transformed.drop(categorical_cols, axis=1, inplace=True)\n",
    "df_transformed =  pd.concat([df_transformed, df_dummies_train],axis=1)"
   ]
  },
  {
   "cell_type": "code",
   "execution_count": 107,
   "metadata": {},
   "outputs": [],
   "source": [
    "df_transformed_test.drop(categorical_cols, axis=1, inplace=True)\n",
    "df_transformed_test =  pd.concat([df_transformed_test, df_dummies_test], axis=1)"
   ]
  },
  {
   "cell_type": "code",
   "execution_count": 108,
   "metadata": {},
   "outputs": [],
   "source": [
    "X_train, X_valid, Y_train, Y_valid = train_test_split(df_transformed, df_training_y, test_size=0.33)"
   ]
  },
  {
   "cell_type": "code",
   "execution_count": 109,
   "metadata": {},
   "outputs": [
    {
     "data": {
      "text/plain": [
       "RandomForestClassifier(bootstrap=True, ccp_alpha=0.0, class_weight=None,\n",
       "                       criterion='gini', max_depth=None, max_features='auto',\n",
       "                       max_leaf_nodes=None, max_samples=None,\n",
       "                       min_impurity_decrease=0.0, min_impurity_split=None,\n",
       "                       min_samples_leaf=1, min_samples_split=2,\n",
       "                       min_weight_fraction_leaf=0.0, n_estimators=100,\n",
       "                       n_jobs=None, oob_score=False, random_state=None,\n",
       "                       verbose=0, warm_start=False)"
      ]
     },
     "execution_count": 109,
     "metadata": {},
     "output_type": "execute_result"
    }
   ],
   "source": [
    "mdl.fit(X_train, Y_train)"
   ]
  },
  {
   "cell_type": "code",
   "execution_count": 110,
   "metadata": {},
   "outputs": [],
   "source": [
    "pred=mdl.predict(X_valid)"
   ]
  },
  {
   "cell_type": "code",
   "execution_count": 112,
   "metadata": {},
   "outputs": [
    {
     "data": {
      "text/plain": [
       "0.9281702240137448"
      ]
     },
     "execution_count": 112,
     "metadata": {},
     "output_type": "execute_result"
    }
   ],
   "source": [
    "mdl.score(X_valid, Y_valid)"
   ]
  },
  {
   "cell_type": "code",
   "execution_count": 55,
   "metadata": {},
   "outputs": [
    {
     "data": {
      "text/plain": [
       "GridSearchCV(cv=5, error_score=nan,\n",
       "             estimator=RandomForestClassifier(bootstrap=True, ccp_alpha=0.0,\n",
       "                                              class_weight=None,\n",
       "                                              criterion='gini', max_depth=None,\n",
       "                                              max_features='auto',\n",
       "                                              max_leaf_nodes=None,\n",
       "                                              max_samples=None,\n",
       "                                              min_impurity_decrease=0.0,\n",
       "                                              min_impurity_split=None,\n",
       "                                              min_samples_leaf=1,\n",
       "                                              min_samples_split=2,\n",
       "                                              min_weight_fraction_leaf=0.0,\n",
       "                                              n_estimators=100, n_jobs=None,\n",
       "                                              oob_score=False,\n",
       "                                              random_state=None, verbose=0,\n",
       "                                              warm_start=False),\n",
       "             iid='deprecated', n_jobs=None,\n",
       "             param_grid={'criterion': ['gini'], 'max_depth': range(1, 5),\n",
       "                         'max_features': range(1, 10),\n",
       "                         'n_estimators': range(50, 100)},\n",
       "             pre_dispatch='2*n_jobs', refit=True, return_train_score=False,\n",
       "             scoring=None, verbose=0)"
      ]
     },
     "execution_count": 55,
     "metadata": {},
     "output_type": "execute_result"
    }
   ],
   "source": [
    "CV_rfc.fit(X_train, Y_train)"
   ]
  },
  {
   "cell_type": "code",
   "execution_count": 58,
   "metadata": {
    "scrolled": true
   },
   "outputs": [
    {
     "data": {
      "text/plain": [
       "RandomForestClassifier(bootstrap=True, ccp_alpha=0.0, class_weight=None,\n",
       "                       criterion='gini', max_depth=None, max_features='auto',\n",
       "                       max_leaf_nodes=None, max_samples=None,\n",
       "                       min_impurity_decrease=0.0, min_impurity_split=None,\n",
       "                       min_samples_leaf=1, min_samples_split=2,\n",
       "                       min_weight_fraction_leaf=0.0, n_estimators=100,\n",
       "                       n_jobs=None, oob_score=False, random_state=42, verbose=0,\n",
       "                       warm_start=False)"
      ]
     },
     "execution_count": 58,
     "metadata": {},
     "output_type": "execute_result"
    }
   ],
   "source": [
    "mdl1=RandomForestClassifier(random_state=42, max_features='auto', n_estimators= 100, max_depth=None, criterion='gini')"
   ]
  },
  {
   "cell_type": "code",
   "execution_count": 60,
   "metadata": {},
   "outputs": [],
   "source": [
    "pred=mdl1.predict(X_valid)"
   ]
  },
  {
   "cell_type": "code",
   "execution_count": 61,
   "metadata": {},
   "outputs": [
    {
     "data": {
      "text/plain": [
       "0.9282693451397608"
      ]
     },
     "execution_count": 61,
     "metadata": {},
     "output_type": "execute_result"
    }
   ],
   "source": [
    "mdl1.score(X_valid, Y_valid)"
   ]
  },
  {
   "cell_type": "code",
   "execution_count": 113,
   "metadata": {
    "colab": {
     "base_uri": "https://localhost:8080/",
     "height": 34
    },
    "colab_type": "code",
    "id": "0WOiQwGOt8Q1",
    "outputId": "d6852454-c1c5-4bf0-e0f5-c712f450bd92"
   },
   "outputs": [
    {
     "data": {
      "text/plain": [
       "0.08630183289173836"
      ]
     },
     "execution_count": 113,
     "metadata": {},
     "output_type": "execute_result"
    }
   ],
   "source": [
    "sum(df_training_y)/len(df_training_y)"
   ]
  },
  {
   "cell_type": "code",
   "execution_count": 115,
   "metadata": {},
   "outputs": [],
   "source": [
    "out  = mdl.predict_proba(df_transformed_test[df_transformed.columns])"
   ]
  },
  {
   "cell_type": "code",
   "execution_count": 116,
   "metadata": {
    "colab": {
     "base_uri": "https://localhost:8080/",
     "height": 34
    },
    "colab_type": "code",
    "id": "Xet5iE70tVK1",
    "outputId": "226c15eb-79cd-4ea6-89ef-688b3196b119"
   },
   "outputs": [
    {
     "data": {
      "text/plain": [
       "array([0.89527221, 0.10472779])"
      ]
     },
     "execution_count": 116,
     "metadata": {},
     "output_type": "execute_result"
    }
   ],
   "source": [
    "sum(out)/len(out)"
   ]
  },
  {
   "cell_type": "code",
   "execution_count": 117,
   "metadata": {
    "colab": {},
    "colab_type": "code",
    "id": "zjIGXRx_p0Gl"
   },
   "outputs": [],
   "source": [
    "submission = pd.DataFrame(columns=['encounter_id', 'hospital_death'])\n",
    "submission['encounter_id'] =  df_test['encounter_id']"
   ]
  },
  {
   "cell_type": "code",
   "execution_count": 118,
   "metadata": {
    "colab": {},
    "colab_type": "code",
    "id": "Pgbt_Plkqxqt"
   },
   "outputs": [],
   "source": [
    "submission['hospital_death'] = out[:,1]"
   ]
  },
  {
   "cell_type": "code",
   "execution_count": 119,
   "metadata": {
    "colab": {},
    "colab_type": "code",
    "id": "o3vB6fuGrZER"
   },
   "outputs": [],
   "source": [
    "submission.to_csv('submission.csv', index=False) "
   ]
  },
  {
   "cell_type": "code",
   "execution_count": 0,
   "metadata": {
    "colab": {
     "base_uri": "https://localhost:8080/",
     "height": 68
    },
    "colab_type": "code",
    "id": "Dz5ieRSYrlY5",
    "outputId": "65fd11d4-7786-4441-fe4c-90dd109ad254"
   },
   "outputs": [
    {
     "name": "stdout",
     "output_type": "stream",
     "text": [
      "Warning: Looks like you're using an outdated API Version, please consider updating (server 1.5.6 / client 1.5.4)\n",
      "100% 422k/422k [00:00<00:00, 1.63MB/s]\n",
      "Successfully submitted to WiDS Datathon 2020"
     ]
    }
   ],
   "source": [
    "!kaggle competitions submit -c widsdatathon2020 -f submission.csv -m \"Message\""
   ]
  },
  {
   "cell_type": "code",
   "execution_count": 0,
   "metadata": {
    "colab": {},
    "colab_type": "code",
    "id": "jvfEI7NSrr1r"
   },
   "outputs": [],
   "source": []
  }
 ],
 "metadata": {
  "colab": {
   "collapsed_sections": [],
   "machine_shape": "hm",
   "name": "wiDS.ipynb",
   "provenance": [],
   "toc_visible": true
  },
  "kernelspec": {
   "display_name": "Python 3",
   "language": "python",
   "name": "python3"
  },
  "language_info": {
   "codemirror_mode": {
    "name": "ipython",
    "version": 3
   },
   "file_extension": ".py",
   "mimetype": "text/x-python",
   "name": "python",
   "nbconvert_exporter": "python",
   "pygments_lexer": "ipython3",
   "version": "3.7.1"
  }
 },
 "nbformat": 4,
 "nbformat_minor": 1
}
