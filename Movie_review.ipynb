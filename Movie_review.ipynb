{
 "cells": [
  {
   "cell_type": "code",
   "execution_count": null,
   "metadata": {},
   "outputs": [],
   "source": [
    "import pandas as pd\n",
    "import fasttext\n",
    "import warnings\n",
    "warnings.filterwarnings(\"ignore\")\n",
    "import numpy as np\n",
    "import matplotlib.pyplot as plt\n",
    "from sklearn.metrics import plot_confusion_matrix\n",
    "from sklearn.feature_extraction.text import CountVectorizer\n",
    "from sklearn.feature_extraction.text import TfidfTransformer\n",
    "from sklearn.naive_bayes import MultinomialNB\n",
    "from sklearn.pipeline import Pipeline\n",
    "from nltk.corpus import stopwords\n",
    "from sklearn.linear_model import SGDClassifier\n",
    "from sklearn.model_selection import GridSearchCV\n",
    "from sklearn.metrics import confusion_matrix"
   ]
  },
  {
   "cell_type": "code",
   "execution_count": 0,
   "metadata": {
    "colab": {},
    "colab_type": "code",
    "id": "ReTMz9juv6P4"
   },
   "outputs": [],
   "source": [
    "train_data = pd.read_csv('train.tsv',sep=\"\\t\")\n",
    "test_data = pd.read_csv('test.tsv', sep = \"\\t\")"
   ]
  },
  {
   "cell_type": "code",
   "execution_count": 0,
   "metadata": {
    "colab": {},
    "colab_type": "code",
    "id": "yJjf00Uew3d2"
   },
   "outputs": [],
   "source": [
    "stop_words = set(stopwords.words('english'))\n",
    "full_train_data = train_data\n",
    "#segregate the sentences later\n",
    "for index,row in train_data.iterrows():\n",
    "    if row['Phrase'] in stop_words:\n",
    "        train_data.drop(index,inplace=True)"
   ]
  },
  {
   "cell_type": "code",
   "execution_count": 0,
   "metadata": {
    "colab": {},
    "colab_type": "code",
    "id": "ud4uedjzxdtV"
   },
   "outputs": [],
   "source": [
    "sample_train_data = train_data[train_data['Phrase'].apply(lambda x:len(x.split(\" \"))<500)]\n",
    "sample_train_data = sample_train_data[train_data['Phrase'].apply(lambda x:len(x.split(\" \"))>1)]"
   ]
  },
  {
   "cell_type": "code",
   "execution_count": 0,
   "metadata": {
    "colab": {},
    "colab_type": "code",
    "id": "MJAfDUL3xl-L"
   },
   "outputs": [],
   "source": [
    "text_classifier = Pipeline([('vect', CountVectorizer()),('tfidf', TfidfTransformer()),('clf',SGDClassifier(loss='hinge', penalty='l1',\n",
    "                          alpha=1e-6,\n",
    "                          max_iter=200, tol=None)),])\n",
    "text_classifier_bayes = Pipeline([('vect', CountVectorizer()),('tfidf', TfidfTransformer()),('clf',MultinomialNB()),])\n",
    "text_classifier.fit(sample_train_data['Phrase'],sample_train_data['Sentiment'])\n",
    "text_classifier_bayes.fit(sample_train_data['Phrase'],sample_train_data['Sentiment'])\n",
    "parameters = {\n",
    "    'vect__ngram_range': [(1, 1), (1, 2)],\n",
    "    'tfidf__use_idf': (True, False),\n",
    "    'clf__alpha': (1e-4, 1e-10),\n",
    "}"
   ]
  },
  {
   "cell_type": "code",
   "execution_count": 0,
   "metadata": {
    "colab": {},
    "colab_type": "code",
    "id": "v6DTy8jQxnUj"
   },
   "outputs": [],
   "source": [
    "parameters_nb = {\n",
    "    'vect__ngram_range': [(1, 1), (1, 2)],\n",
    "    'tfidf__use_idf': (True, False),\n",
    "}\n",
    "#gs_clf = GridSearchCV(text_classifier, parameters, cv=5, n_jobs=-1)\n",
    "gs_nb_clf = GridSearchCV(text_classifier_bayes, parameters_nb, cv=5, n_jobs=-1)\n",
    "#gs_clf = gs_clf.fit(sample_train_data['Phrase'],sample_train_data['Sentiment'])\n",
    "gs_nb_clf = gs_nb_clf.fit(sample_train_data['Phrase'],sample_train_data['Sentiment'])\n",
    "#print(gs_clf.best_score_)\n",
    "#for param_name in sorted(parameters.keys()):\n",
    "    #print(\"%s: %r\" % (param_name, gs_clf.best_params_[param_name]))\n",
    "predicted = text_classifier.predict(full_train_data['Phrase'])\n",
    "#new_predicted = gs_clf.predict(full_train_data['Phrase'])\n",
    "nb_predicted = gs_nb_clf.predict(full_train_data['Phrase'])\n",
    "for index, element in enumerate(predicted):\n",
    "    if full_train_data['Phrase'].iloc[index].lower() in stop_words:\n",
    "        predicted[element] = 2\n",
    "        #new_predicted[element] = 2\n",
    "        nb_predicted[element] = 2"
   ]
  },
  {
   "cell_type": "code",
   "execution_count": 16,
   "metadata": {
    "colab": {
     "base_uri": "https://localhost:8080/",
     "height": 255
    },
    "colab_type": "code",
    "id": "X18cP2Tkxvq8",
    "outputId": "b677d592-c3a1-4687-fd0f-28d4f902a776"
   },
   "outputs": [
    {
     "name": "stdout",
     "output_type": "stream",
     "text": [
      " After SVM parameter tuning , accuracy is 0.7191638077527334\n",
      "Using Naive bayes ,after parameter tuning the accuracy is 0.6265734714162045\n",
      "for SVM , confusion matrix is \n",
      "[[ 3745  2519   703    97     8]\n",
      " [ 1401 15798  9073   935    61]\n",
      " [  485  5209 67813  5635   332]\n",
      " [   61   742 10317 19985  1820]\n",
      " [    4    70   615  3708  4809]]\n",
      "for Naive Bayes, confusion matrix is\n",
      "[[  570  2951  3438   110     3]\n",
      " [  152  9384 16995   726    11]\n",
      " [   62  3186 71405  4736    85]\n",
      " [    5   416 16842 15412   250]\n",
      " [    1    46  2802  5417   940]]\n"
     ]
    }
   ],
   "source": [
    "print(f\" After SVM parameter tuning , accuracy is {np.mean(predicted == full_train_data['Sentiment'])}\")\n",
    "#print(f\" Using SVM , the accuracy is {np.mean(new_predicted == full_train_data['Sentiment'])}\")\n",
    "print(f\"Using Naive bayes ,after parameter tuning the accuracy is {np.mean(nb_predicted == full_train_data['Sentiment'])}\")\n",
    "\n",
    "print(\"for SVM , confusion matrix is \")\n",
    "print(confusion_matrix(list(full_train_data['Sentiment']),list(predicted)))\n",
    "print(\"for Naive Bayes, confusion matrix is\")\n",
    "print(confusion_matrix(list(full_train_data['Sentiment']),list(nb_predicted)))"
   ]
  },
  {
   "cell_type": "code",
   "execution_count": 17,
   "metadata": {
    "colab": {
     "base_uri": "https://localhost:8080/",
     "height": 312
    },
    "colab_type": "code",
    "id": "FjnrCWpix31S",
    "outputId": "a4c6d296-4acb-419c-bd37-d93ff9b06273"
   },
   "outputs": [
    {
     "data": {
      "image/png": "[encoded data removed]",
      "text/plain": [
       "<Figure size 432x288 with 2 Axes>"
      ]
     },
     "metadata": {
      "tags": []
     },
     "output_type": "display_data"
    },
    {
     "data": {
      "text/plain": [
       "<Figure size 432x288 with 0 Axes>"
      ]
     },
     "metadata": {
      "tags": []
     },
     "output_type": "display_data"
    }
   ],
   "source": [
    "titles_options = [(\"Confusion matrix, SVM\", None)]\n",
    "class_names = ['negative','somewhat negative','neutral','somewhat positive','positive']\n",
    "for title, normalize in titles_options:\n",
    "    disp = plot_confusion_matrix(text_classifier, full_train_data['Phrase'], full_train_data['Sentiment'],\n",
    "                                 display_labels=class_names,\n",
    "                                 cmap=plt.cm.Blues)\n",
    "    disp.ax_.set_title(title)\n",
    "\n",
    "    #print(title)\n",
    "    #print(disp.confusion_matrix)\n",
    "plt.show()\n",
    "plt.savefig(\"confusion_matrix.png\")"
   ]
  },
  {
   "cell_type": "code",
   "execution_count": 0,
   "metadata": {
    "colab": {},
    "colab_type": "code",
    "id": "43xhpSKGx73j"
   },
   "outputs": [],
   "source": [
    "train_data = pd.read_csv('train.tsv',sep=\"\\t\")\n",
    "test_data = pd.read_csv('test.tsv', sep = \"\\t\")\n",
    "\n",
    "fastext_data = []"
   ]
  },
  {
   "cell_type": "code",
   "execution_count": 21,
   "metadata": {
    "colab": {
     "base_uri": "https://localhost:8080/",
     "height": 51
    },
    "colab_type": "code",
    "id": "wW0p-pPgyMLv",
    "outputId": "24801e77-b19f-4a6e-ac47-175f20f066e8"
   },
   "outputs": [
    {
     "name": "stdout",
     "output_type": "stream",
     "text": [
      "precision is 0.7034272228207891\n",
      "recall is 0.7034272228207891\n"
     ]
    }
   ],
   "source": [
    "model = fasttext.train_supervised(input='training_data.txt')\n",
    "print(f\"precision is {model.test('training_data.txt')[1]}\")\n",
    "print(f\"recall is {model.test('training_data.txt')[2]}\")"
   ]
  }
 ],
 "metadata": {
  "colab": {
   "name": "Untitled0.ipynb",
   "provenance": []
  },
  "kernelspec": {
   "display_name": "Python 3",
   "language": "python",
   "name": "python3"
  },
  "language_info": {
   "codemirror_mode": {
    "name": "ipython",
    "version": 3
   },
   "file_extension": ".py",
   "mimetype": "text/x-python",
   "name": "python",
   "nbconvert_exporter": "python",
   "pygments_lexer": "ipython3",
   "version": "3.7.1"
  }
 },
 "nbformat": 4,
 "nbformat_minor": 1
}
